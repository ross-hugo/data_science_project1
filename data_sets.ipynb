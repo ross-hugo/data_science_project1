{
 "cells": [
  {
   "cell_type": "code",
   "execution_count": 5,
   "metadata": {},
   "outputs": [
    {
     "name": "stdout",
     "output_type": "stream",
     "text": [
      "   element_code             element  year    unit      value value_footnotes  \\\n",
      "0         150.0  Non-fertilizer use  2007  tonnes        0.0              NR   \n",
      "1         150.0  Non-fertilizer use  2006  tonnes  1120025.0              Qm   \n",
      "2         150.0  Non-fertilizer use  2005  tonnes  1076048.0              Qm   \n",
      "3         150.0  Non-fertilizer use  2004  tonnes   637163.0              Qm   \n",
      "4         150.0  Non-fertilizer use  2003  tonnes  1236054.0              Qm   \n",
      "\n",
      "           categgory  area category  \n",
      "0  ammonia_anhydrous   NaN      NaN  \n",
      "1  ammonia_anhydrous   NaN      NaN  \n",
      "2  ammonia_anhydrous   NaN      NaN  \n",
      "3  ammonia_anhydrous   NaN      NaN  \n",
      "4  ammonia_anhydrous   NaN      NaN  \n"
     ]
    }
   ],
   "source": [
    "import pandas as pd\n",
    "forest_df = pd.read_csv(\"fao_data_forest_america_data.csv\")\n",
    "crops_df = pd.read_csv(\"fao_data_crops_america_data.csv\")\n",
    "land_df = pd.read_csv(\"fao_data_land_america_data.csv\")\n",
    "frames = [forest_df, crops_df, land_df]\n",
    "all_frames = pd.concat(frames)\n",
    "del all_frames[\"country_or_area\"]\n",
    "print(all_frames.head())"
   ]
  }
 ],
 "metadata": {
  "kernelspec": {
   "display_name": "Python 3",
   "language": "python",
   "name": "python3"
  },
  "language_info": {
   "codemirror_mode": {
    "name": "ipython",
    "version": 3
   },
   "file_extension": ".py",
   "mimetype": "text/x-python",
   "name": "python",
   "nbconvert_exporter": "python",
   "pygments_lexer": "ipython3",
   "version": "3.8.5"
  }
 },
 "nbformat": 4,
 "nbformat_minor": 4
}
